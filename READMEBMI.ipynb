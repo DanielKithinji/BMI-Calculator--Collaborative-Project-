{
 "cells": [
  {
   "cell_type": "markdown",
   "id": "1459b5af",
   "metadata": {},
   "source": [
    "# BMI Calculator"
   ]
  },
  {
   "cell_type": "markdown",
   "id": "c31302a7",
   "metadata": {},
   "source": [
    "### Project Deck Information:"
   ]
  },
  {
   "cell_type": "markdown",
   "id": "f13f4907",
   "metadata": {},
   "source": [
    "In this project, we are going to write a python program to calculate the BMI\n",
    "\n",
    "Measurements:\n",
    "\n",
    "1. Weight(Kgs)\n",
    "\n",
    "2. Height(m)\n",
    "\n",
    "BMI = Weight/(Height* Height)\n",
    "\n",
    "We will use the BMI to determine if the user is Overweight,Normal or underweight"
   ]
  },
  {
   "cell_type": "code",
   "execution_count": 1,
   "id": "d8f76290",
   "metadata": {},
   "outputs": [
    {
     "name": "stdout",
     "output_type": "stream",
     "text": [
      "3.24\n"
     ]
    }
   ],
   "source": [
    "Weight_kgs = 100\n",
    "Height_metres_squared = 1.8 ** 2\n",
    "print (Height_metres_squared)"
   ]
  },
  {
   "cell_type": "code",
   "execution_count": 3,
   "id": "d76f9263",
   "metadata": {},
   "outputs": [
    {
     "name": "stdout",
     "output_type": "stream",
     "text": [
      "Weight_kgs: 100\n",
      "Height_metres_squared: 3.24\n",
      "Weight_kgs // Height_Meters_squared)100 // 3.24\n",
      "100 // 3.24\n"
     ]
    }
   ],
   "source": [
    "Weight_kgs = input(\"Weight_kgs: \") \n",
    "Height_metres = input(\"Height_metres_squared: \")\n",
    "print(input (\"Weight_kgs // Height_Meters_squared)\"))"
   ]
  },
  {
   "cell_type": "code",
   "execution_count": null,
   "id": "37d9be3b",
   "metadata": {},
   "outputs": [],
   "source": []
  }
 ],
 "metadata": {
  "kernelspec": {
   "display_name": "Python 3 (ipykernel)",
   "language": "python",
   "name": "python3"
  },
  "language_info": {
   "codemirror_mode": {
    "name": "ipython",
    "version": 3
   },
   "file_extension": ".py",
   "mimetype": "text/x-python",
   "name": "python",
   "nbconvert_exporter": "python",
   "pygments_lexer": "ipython3",
   "version": "3.12.3"
  }
 },
 "nbformat": 4,
 "nbformat_minor": 5
}
